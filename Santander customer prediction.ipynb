{
 "cells": [
  {
   "cell_type": "code",
   "execution_count": 1,
   "metadata": {},
   "outputs": [
    {
     "name": "stderr",
     "output_type": "stream",
     "text": [
      "Using TensorFlow backend.\n"
     ]
    }
   ],
   "source": [
    "#importing libraries\n",
    "import pandas as pd\n",
    "import os\n",
    "import numpy as np\n",
    "import tslib\n",
    "import matplotlib.pyplot as plt\n",
    "from fancyimpute import KNN   \n",
    "\n",
    "#doing this to plot the graph in different window\n",
    "import PyQt5\n",
    "%matplotlib qt \n",
    "\n",
    "import warnings\n",
    "warnings.filterwarnings('ignore')"
   ]
  },
  {
   "cell_type": "code",
   "execution_count": 2,
   "metadata": {},
   "outputs": [],
   "source": [
    "#loading the dataset\n",
    "train= pd.read_csv(\"train.csv\")"
   ]
  },
  {
   "cell_type": "code",
   "execution_count": 150,
   "metadata": {},
   "outputs": [],
   "source": [
    "#checking data types\n",
    "train.dtypes"
   ]
  },
  {
   "cell_type": "code",
   "execution_count": 3,
   "metadata": {},
   "outputs": [],
   "source": [
    "#loading the continuous feature names in cont_features variable\n",
    "features= [c for c in train.columns]\n",
    "cont_features = [c for c in train.columns if c not in ['ID_code', 'target']]"
   ]
  },
  {
   "cell_type": "code",
   "execution_count": 4,
   "metadata": {},
   "outputs": [
    {
     "data": {
      "text/html": [
       "<div>\n",
       "<style scoped>\n",
       "    .dataframe tbody tr th:only-of-type {\n",
       "        vertical-align: middle;\n",
       "    }\n",
       "\n",
       "    .dataframe tbody tr th {\n",
       "        vertical-align: top;\n",
       "    }\n",
       "\n",
       "    .dataframe thead th {\n",
       "        text-align: right;\n",
       "    }\n",
       "</style>\n",
       "<table border=\"1\" class=\"dataframe\">\n",
       "  <thead>\n",
       "    <tr style=\"text-align: right;\">\n",
       "      <th></th>\n",
       "      <th>ID_code</th>\n",
       "      <th>target</th>\n",
       "      <th>var_0</th>\n",
       "      <th>var_1</th>\n",
       "      <th>var_2</th>\n",
       "      <th>var_3</th>\n",
       "      <th>var_4</th>\n",
       "      <th>var_5</th>\n",
       "      <th>var_6</th>\n",
       "      <th>var_7</th>\n",
       "      <th>...</th>\n",
       "      <th>var_190</th>\n",
       "      <th>var_191</th>\n",
       "      <th>var_192</th>\n",
       "      <th>var_193</th>\n",
       "      <th>var_194</th>\n",
       "      <th>var_195</th>\n",
       "      <th>var_196</th>\n",
       "      <th>var_197</th>\n",
       "      <th>var_198</th>\n",
       "      <th>var_199</th>\n",
       "    </tr>\n",
       "  </thead>\n",
       "  <tbody>\n",
       "    <tr>\n",
       "      <th>0</th>\n",
       "      <td>train_0</td>\n",
       "      <td>0</td>\n",
       "      <td>8.9255</td>\n",
       "      <td>-6.7863</td>\n",
       "      <td>11.9081</td>\n",
       "      <td>5.0930</td>\n",
       "      <td>11.4607</td>\n",
       "      <td>-9.2834</td>\n",
       "      <td>5.1187</td>\n",
       "      <td>18.6266</td>\n",
       "      <td>...</td>\n",
       "      <td>4.4354</td>\n",
       "      <td>3.9642</td>\n",
       "      <td>3.1364</td>\n",
       "      <td>1.6910</td>\n",
       "      <td>18.5227</td>\n",
       "      <td>-2.3978</td>\n",
       "      <td>7.8784</td>\n",
       "      <td>8.5635</td>\n",
       "      <td>12.7803</td>\n",
       "      <td>-1.0914</td>\n",
       "    </tr>\n",
       "    <tr>\n",
       "      <th>1</th>\n",
       "      <td>train_1</td>\n",
       "      <td>0</td>\n",
       "      <td>11.5006</td>\n",
       "      <td>-4.1473</td>\n",
       "      <td>13.8588</td>\n",
       "      <td>5.3890</td>\n",
       "      <td>12.3622</td>\n",
       "      <td>7.0433</td>\n",
       "      <td>5.6208</td>\n",
       "      <td>16.5338</td>\n",
       "      <td>...</td>\n",
       "      <td>7.6421</td>\n",
       "      <td>7.7214</td>\n",
       "      <td>2.5837</td>\n",
       "      <td>10.9516</td>\n",
       "      <td>15.4305</td>\n",
       "      <td>2.0339</td>\n",
       "      <td>8.1267</td>\n",
       "      <td>8.7889</td>\n",
       "      <td>18.3560</td>\n",
       "      <td>1.9518</td>\n",
       "    </tr>\n",
       "    <tr>\n",
       "      <th>2</th>\n",
       "      <td>train_2</td>\n",
       "      <td>0</td>\n",
       "      <td>8.6093</td>\n",
       "      <td>-2.7457</td>\n",
       "      <td>12.0805</td>\n",
       "      <td>7.8928</td>\n",
       "      <td>10.5825</td>\n",
       "      <td>-9.0837</td>\n",
       "      <td>6.9427</td>\n",
       "      <td>14.6155</td>\n",
       "      <td>...</td>\n",
       "      <td>2.9057</td>\n",
       "      <td>9.7905</td>\n",
       "      <td>1.6704</td>\n",
       "      <td>1.6858</td>\n",
       "      <td>21.6042</td>\n",
       "      <td>3.1417</td>\n",
       "      <td>-6.5213</td>\n",
       "      <td>8.2675</td>\n",
       "      <td>14.7222</td>\n",
       "      <td>0.3965</td>\n",
       "    </tr>\n",
       "    <tr>\n",
       "      <th>3</th>\n",
       "      <td>train_3</td>\n",
       "      <td>0</td>\n",
       "      <td>11.0604</td>\n",
       "      <td>-2.1518</td>\n",
       "      <td>8.9522</td>\n",
       "      <td>7.1957</td>\n",
       "      <td>12.5846</td>\n",
       "      <td>-1.8361</td>\n",
       "      <td>5.8428</td>\n",
       "      <td>14.9250</td>\n",
       "      <td>...</td>\n",
       "      <td>4.4666</td>\n",
       "      <td>4.7433</td>\n",
       "      <td>0.7178</td>\n",
       "      <td>1.4214</td>\n",
       "      <td>23.0347</td>\n",
       "      <td>-1.2706</td>\n",
       "      <td>-2.9275</td>\n",
       "      <td>10.2922</td>\n",
       "      <td>17.9697</td>\n",
       "      <td>-8.9996</td>\n",
       "    </tr>\n",
       "    <tr>\n",
       "      <th>4</th>\n",
       "      <td>train_4</td>\n",
       "      <td>0</td>\n",
       "      <td>9.8369</td>\n",
       "      <td>-1.4834</td>\n",
       "      <td>12.8746</td>\n",
       "      <td>6.6375</td>\n",
       "      <td>12.2772</td>\n",
       "      <td>2.4486</td>\n",
       "      <td>5.9405</td>\n",
       "      <td>19.2514</td>\n",
       "      <td>...</td>\n",
       "      <td>-1.4905</td>\n",
       "      <td>9.5214</td>\n",
       "      <td>-0.1508</td>\n",
       "      <td>9.1942</td>\n",
       "      <td>13.2876</td>\n",
       "      <td>-1.5121</td>\n",
       "      <td>3.9267</td>\n",
       "      <td>9.5031</td>\n",
       "      <td>17.9974</td>\n",
       "      <td>-8.8104</td>\n",
       "    </tr>\n",
       "  </tbody>\n",
       "</table>\n",
       "<p>5 rows × 202 columns</p>\n",
       "</div>"
      ],
      "text/plain": [
       "   ID_code  target    var_0   var_1    var_2   var_3    var_4   var_5   var_6  \\\n",
       "0  train_0       0   8.9255 -6.7863  11.9081  5.0930  11.4607 -9.2834  5.1187   \n",
       "1  train_1       0  11.5006 -4.1473  13.8588  5.3890  12.3622  7.0433  5.6208   \n",
       "2  train_2       0   8.6093 -2.7457  12.0805  7.8928  10.5825 -9.0837  6.9427   \n",
       "3  train_3       0  11.0604 -2.1518   8.9522  7.1957  12.5846 -1.8361  5.8428   \n",
       "4  train_4       0   9.8369 -1.4834  12.8746  6.6375  12.2772  2.4486  5.9405   \n",
       "\n",
       "     var_7  ...  var_190  var_191  var_192  var_193  var_194  var_195  \\\n",
       "0  18.6266  ...   4.4354   3.9642   3.1364   1.6910  18.5227  -2.3978   \n",
       "1  16.5338  ...   7.6421   7.7214   2.5837  10.9516  15.4305   2.0339   \n",
       "2  14.6155  ...   2.9057   9.7905   1.6704   1.6858  21.6042   3.1417   \n",
       "3  14.9250  ...   4.4666   4.7433   0.7178   1.4214  23.0347  -1.2706   \n",
       "4  19.2514  ...  -1.4905   9.5214  -0.1508   9.1942  13.2876  -1.5121   \n",
       "\n",
       "   var_196  var_197  var_198  var_199  \n",
       "0   7.8784   8.5635  12.7803  -1.0914  \n",
       "1   8.1267   8.7889  18.3560   1.9518  \n",
       "2  -6.5213   8.2675  14.7222   0.3965  \n",
       "3  -2.9275  10.2922  17.9697  -8.9996  \n",
       "4   3.9267   9.5031  17.9974  -8.8104  \n",
       "\n",
       "[5 rows x 202 columns]"
      ]
     },
     "execution_count": 4,
     "metadata": {},
     "output_type": "execute_result"
    }
   ],
   "source": [
    "#analysing the dataframe\n",
    "train.head()"
   ]
  },
  {
   "cell_type": "code",
   "execution_count": 5,
   "metadata": {},
   "outputs": [
    {
     "data": {
      "text/plain": [
       "(200000, 202)"
      ]
     },
     "execution_count": 5,
     "metadata": {},
     "output_type": "execute_result"
    }
   ],
   "source": [
    "#shape of the training dataframe\n",
    "train.shape"
   ]
  },
  {
   "cell_type": "code",
   "execution_count": 6,
   "metadata": {},
   "outputs": [
    {
     "data": {
      "text/plain": [
       "float64    200\n",
       "object       1\n",
       "int64        1\n",
       "dtype: int64"
      ]
     },
     "execution_count": 6,
     "metadata": {},
     "output_type": "execute_result"
    }
   ],
   "source": [
    "#checking datatypes of each feature\n",
    "data_type=train.dtypes\n",
    "data_type.value_counts()\n",
    "#we found that there are 200 continuous variables"
   ]
  },
  {
   "cell_type": "code",
   "execution_count": 7,
   "metadata": {},
   "outputs": [
    {
     "data": {
      "text/html": [
       "<div>\n",
       "<style scoped>\n",
       "    .dataframe tbody tr th:only-of-type {\n",
       "        vertical-align: middle;\n",
       "    }\n",
       "\n",
       "    .dataframe tbody tr th {\n",
       "        vertical-align: top;\n",
       "    }\n",
       "\n",
       "    .dataframe thead th {\n",
       "        text-align: right;\n",
       "    }\n",
       "</style>\n",
       "<table border=\"1\" class=\"dataframe\">\n",
       "  <thead>\n",
       "    <tr style=\"text-align: right;\">\n",
       "      <th></th>\n",
       "      <th>target</th>\n",
       "      <th>var_0</th>\n",
       "      <th>var_1</th>\n",
       "      <th>var_2</th>\n",
       "      <th>var_3</th>\n",
       "      <th>var_4</th>\n",
       "      <th>var_5</th>\n",
       "      <th>var_6</th>\n",
       "      <th>var_7</th>\n",
       "      <th>var_8</th>\n",
       "      <th>...</th>\n",
       "      <th>var_190</th>\n",
       "      <th>var_191</th>\n",
       "      <th>var_192</th>\n",
       "      <th>var_193</th>\n",
       "      <th>var_194</th>\n",
       "      <th>var_195</th>\n",
       "      <th>var_196</th>\n",
       "      <th>var_197</th>\n",
       "      <th>var_198</th>\n",
       "      <th>var_199</th>\n",
       "    </tr>\n",
       "  </thead>\n",
       "  <tbody>\n",
       "    <tr>\n",
       "      <th>count</th>\n",
       "      <td>200000.000000</td>\n",
       "      <td>200000.000000</td>\n",
       "      <td>200000.000000</td>\n",
       "      <td>200000.000000</td>\n",
       "      <td>200000.000000</td>\n",
       "      <td>200000.000000</td>\n",
       "      <td>200000.000000</td>\n",
       "      <td>200000.000000</td>\n",
       "      <td>200000.000000</td>\n",
       "      <td>200000.000000</td>\n",
       "      <td>...</td>\n",
       "      <td>200000.000000</td>\n",
       "      <td>200000.000000</td>\n",
       "      <td>200000.000000</td>\n",
       "      <td>200000.000000</td>\n",
       "      <td>200000.000000</td>\n",
       "      <td>200000.000000</td>\n",
       "      <td>200000.000000</td>\n",
       "      <td>200000.000000</td>\n",
       "      <td>200000.000000</td>\n",
       "      <td>200000.000000</td>\n",
       "    </tr>\n",
       "    <tr>\n",
       "      <th>mean</th>\n",
       "      <td>0.100490</td>\n",
       "      <td>10.679914</td>\n",
       "      <td>-1.627622</td>\n",
       "      <td>10.715192</td>\n",
       "      <td>6.796529</td>\n",
       "      <td>11.078333</td>\n",
       "      <td>-5.065317</td>\n",
       "      <td>5.408949</td>\n",
       "      <td>16.545850</td>\n",
       "      <td>0.284162</td>\n",
       "      <td>...</td>\n",
       "      <td>3.234440</td>\n",
       "      <td>7.438408</td>\n",
       "      <td>1.927839</td>\n",
       "      <td>3.331774</td>\n",
       "      <td>17.993784</td>\n",
       "      <td>-0.142088</td>\n",
       "      <td>2.303335</td>\n",
       "      <td>8.908158</td>\n",
       "      <td>15.870720</td>\n",
       "      <td>-3.326537</td>\n",
       "    </tr>\n",
       "    <tr>\n",
       "      <th>std</th>\n",
       "      <td>0.300653</td>\n",
       "      <td>3.040051</td>\n",
       "      <td>4.050044</td>\n",
       "      <td>2.640894</td>\n",
       "      <td>2.043319</td>\n",
       "      <td>1.623150</td>\n",
       "      <td>7.863267</td>\n",
       "      <td>0.866607</td>\n",
       "      <td>3.418076</td>\n",
       "      <td>3.332634</td>\n",
       "      <td>...</td>\n",
       "      <td>4.559922</td>\n",
       "      <td>3.023272</td>\n",
       "      <td>1.478423</td>\n",
       "      <td>3.992030</td>\n",
       "      <td>3.135162</td>\n",
       "      <td>1.429372</td>\n",
       "      <td>5.454369</td>\n",
       "      <td>0.921625</td>\n",
       "      <td>3.010945</td>\n",
       "      <td>10.438015</td>\n",
       "    </tr>\n",
       "    <tr>\n",
       "      <th>min</th>\n",
       "      <td>0.000000</td>\n",
       "      <td>0.408400</td>\n",
       "      <td>-15.043400</td>\n",
       "      <td>2.117100</td>\n",
       "      <td>-0.040200</td>\n",
       "      <td>5.074800</td>\n",
       "      <td>-32.562600</td>\n",
       "      <td>2.347300</td>\n",
       "      <td>5.349700</td>\n",
       "      <td>-10.505500</td>\n",
       "      <td>...</td>\n",
       "      <td>-14.093300</td>\n",
       "      <td>-2.691700</td>\n",
       "      <td>-3.814500</td>\n",
       "      <td>-11.783400</td>\n",
       "      <td>8.694400</td>\n",
       "      <td>-5.261000</td>\n",
       "      <td>-14.209600</td>\n",
       "      <td>5.960600</td>\n",
       "      <td>6.299300</td>\n",
       "      <td>-38.852800</td>\n",
       "    </tr>\n",
       "    <tr>\n",
       "      <th>25%</th>\n",
       "      <td>0.000000</td>\n",
       "      <td>8.453850</td>\n",
       "      <td>-4.740025</td>\n",
       "      <td>8.722475</td>\n",
       "      <td>5.254075</td>\n",
       "      <td>9.883175</td>\n",
       "      <td>-11.200350</td>\n",
       "      <td>4.767700</td>\n",
       "      <td>13.943800</td>\n",
       "      <td>-2.317800</td>\n",
       "      <td>...</td>\n",
       "      <td>-0.058825</td>\n",
       "      <td>5.157400</td>\n",
       "      <td>0.889775</td>\n",
       "      <td>0.584600</td>\n",
       "      <td>15.629800</td>\n",
       "      <td>-1.170700</td>\n",
       "      <td>-1.946925</td>\n",
       "      <td>8.252800</td>\n",
       "      <td>13.829700</td>\n",
       "      <td>-11.208475</td>\n",
       "    </tr>\n",
       "    <tr>\n",
       "      <th>50%</th>\n",
       "      <td>0.000000</td>\n",
       "      <td>10.524750</td>\n",
       "      <td>-1.608050</td>\n",
       "      <td>10.580000</td>\n",
       "      <td>6.825000</td>\n",
       "      <td>11.108250</td>\n",
       "      <td>-4.833150</td>\n",
       "      <td>5.385100</td>\n",
       "      <td>16.456800</td>\n",
       "      <td>0.393700</td>\n",
       "      <td>...</td>\n",
       "      <td>3.203600</td>\n",
       "      <td>7.347750</td>\n",
       "      <td>1.901300</td>\n",
       "      <td>3.396350</td>\n",
       "      <td>17.957950</td>\n",
       "      <td>-0.172700</td>\n",
       "      <td>2.408900</td>\n",
       "      <td>8.888200</td>\n",
       "      <td>15.934050</td>\n",
       "      <td>-2.819550</td>\n",
       "    </tr>\n",
       "    <tr>\n",
       "      <th>75%</th>\n",
       "      <td>0.000000</td>\n",
       "      <td>12.758200</td>\n",
       "      <td>1.358625</td>\n",
       "      <td>12.516700</td>\n",
       "      <td>8.324100</td>\n",
       "      <td>12.261125</td>\n",
       "      <td>0.924800</td>\n",
       "      <td>6.003000</td>\n",
       "      <td>19.102900</td>\n",
       "      <td>2.937900</td>\n",
       "      <td>...</td>\n",
       "      <td>6.406200</td>\n",
       "      <td>9.512525</td>\n",
       "      <td>2.949500</td>\n",
       "      <td>6.205800</td>\n",
       "      <td>20.396525</td>\n",
       "      <td>0.829600</td>\n",
       "      <td>6.556725</td>\n",
       "      <td>9.593300</td>\n",
       "      <td>18.064725</td>\n",
       "      <td>4.836800</td>\n",
       "    </tr>\n",
       "    <tr>\n",
       "      <th>max</th>\n",
       "      <td>1.000000</td>\n",
       "      <td>20.315000</td>\n",
       "      <td>10.376800</td>\n",
       "      <td>19.353000</td>\n",
       "      <td>13.188300</td>\n",
       "      <td>16.671400</td>\n",
       "      <td>17.251600</td>\n",
       "      <td>8.447700</td>\n",
       "      <td>27.691800</td>\n",
       "      <td>10.151300</td>\n",
       "      <td>...</td>\n",
       "      <td>18.440900</td>\n",
       "      <td>16.716500</td>\n",
       "      <td>8.402400</td>\n",
       "      <td>18.281800</td>\n",
       "      <td>27.928800</td>\n",
       "      <td>4.272900</td>\n",
       "      <td>18.321500</td>\n",
       "      <td>12.000400</td>\n",
       "      <td>26.079100</td>\n",
       "      <td>28.500700</td>\n",
       "    </tr>\n",
       "  </tbody>\n",
       "</table>\n",
       "<p>8 rows × 201 columns</p>\n",
       "</div>"
      ],
      "text/plain": [
       "              target          var_0          var_1          var_2  \\\n",
       "count  200000.000000  200000.000000  200000.000000  200000.000000   \n",
       "mean        0.100490      10.679914      -1.627622      10.715192   \n",
       "std         0.300653       3.040051       4.050044       2.640894   \n",
       "min         0.000000       0.408400     -15.043400       2.117100   \n",
       "25%         0.000000       8.453850      -4.740025       8.722475   \n",
       "50%         0.000000      10.524750      -1.608050      10.580000   \n",
       "75%         0.000000      12.758200       1.358625      12.516700   \n",
       "max         1.000000      20.315000      10.376800      19.353000   \n",
       "\n",
       "               var_3          var_4          var_5          var_6  \\\n",
       "count  200000.000000  200000.000000  200000.000000  200000.000000   \n",
       "mean        6.796529      11.078333      -5.065317       5.408949   \n",
       "std         2.043319       1.623150       7.863267       0.866607   \n",
       "min        -0.040200       5.074800     -32.562600       2.347300   \n",
       "25%         5.254075       9.883175     -11.200350       4.767700   \n",
       "50%         6.825000      11.108250      -4.833150       5.385100   \n",
       "75%         8.324100      12.261125       0.924800       6.003000   \n",
       "max        13.188300      16.671400      17.251600       8.447700   \n",
       "\n",
       "               var_7          var_8  ...        var_190        var_191  \\\n",
       "count  200000.000000  200000.000000  ...  200000.000000  200000.000000   \n",
       "mean       16.545850       0.284162  ...       3.234440       7.438408   \n",
       "std         3.418076       3.332634  ...       4.559922       3.023272   \n",
       "min         5.349700     -10.505500  ...     -14.093300      -2.691700   \n",
       "25%        13.943800      -2.317800  ...      -0.058825       5.157400   \n",
       "50%        16.456800       0.393700  ...       3.203600       7.347750   \n",
       "75%        19.102900       2.937900  ...       6.406200       9.512525   \n",
       "max        27.691800      10.151300  ...      18.440900      16.716500   \n",
       "\n",
       "             var_192        var_193        var_194        var_195  \\\n",
       "count  200000.000000  200000.000000  200000.000000  200000.000000   \n",
       "mean        1.927839       3.331774      17.993784      -0.142088   \n",
       "std         1.478423       3.992030       3.135162       1.429372   \n",
       "min        -3.814500     -11.783400       8.694400      -5.261000   \n",
       "25%         0.889775       0.584600      15.629800      -1.170700   \n",
       "50%         1.901300       3.396350      17.957950      -0.172700   \n",
       "75%         2.949500       6.205800      20.396525       0.829600   \n",
       "max         8.402400      18.281800      27.928800       4.272900   \n",
       "\n",
       "             var_196        var_197        var_198        var_199  \n",
       "count  200000.000000  200000.000000  200000.000000  200000.000000  \n",
       "mean        2.303335       8.908158      15.870720      -3.326537  \n",
       "std         5.454369       0.921625       3.010945      10.438015  \n",
       "min       -14.209600       5.960600       6.299300     -38.852800  \n",
       "25%        -1.946925       8.252800      13.829700     -11.208475  \n",
       "50%         2.408900       8.888200      15.934050      -2.819550  \n",
       "75%         6.556725       9.593300      18.064725       4.836800  \n",
       "max        18.321500      12.000400      26.079100      28.500700  \n",
       "\n",
       "[8 rows x 201 columns]"
      ]
     },
     "execution_count": 7,
     "metadata": {},
     "output_type": "execute_result"
    }
   ],
   "source": [
    "#describing the train df\n",
    "train.describe()"
   ]
  },
  {
   "cell_type": "code",
   "execution_count": 8,
   "metadata": {},
   "outputs": [
    {
     "data": {
      "text/plain": [
       "0    179902\n",
       "1     20098\n",
       "Name: target, dtype: int64"
      ]
     },
     "execution_count": 8,
     "metadata": {},
     "output_type": "execute_result"
    }
   ],
   "source": [
    "train['target'].value_counts()\n",
    "#We found that that there are more 0 in the target feature"
   ]
  },
  {
   "cell_type": "markdown",
   "metadata": {},
   "source": [
    "## Missing Analysis"
   ]
  },
  {
   "cell_type": "code",
   "execution_count": 9,
   "metadata": {},
   "outputs": [],
   "source": [
    "#Create dataframe with missing percentage\n",
    "missing_val = pd.DataFrame(train.isnull().sum())\n",
    "\n",
    "# Reset index\n",
    "missing_val = missing_val.reset_index()\n",
    "\n",
    "#Rename variable\n",
    "missing_val = missing_val.rename(columns = {'index': 'Features', 0: 'Missing_percentage'})\n",
    "\n",
    "#Calculate percentage\n",
    "missing_val['Missing_percentage'] = (missing_val['Missing_percentage']/len(train))*100\n",
    "\n",
    "#descending order\n",
    "missing_val = missing_val.sort_values('Missing_percentage', ascending = False).reset_index(drop = True)"
   ]
  },
  {
   "cell_type": "code",
   "execution_count": 10,
   "metadata": {},
   "outputs": [
    {
     "name": "stdout",
     "output_type": "stream",
     "text": [
      "Total percentage of missing values is 0 \n"
     ]
    }
   ],
   "source": [
    "#Analysing missing_val df\n",
    "missing_val.head()\n",
    "\n",
    "#total %age of missing values\n",
    "total_sum= missing_val.Missing_percentage.isnull().sum()\n",
    "print('Total percentage of missing values is {} '.format(total_sum))"
   ]
  },
  {
   "cell_type": "markdown",
   "metadata": {},
   "source": [
    "## Outlier Analysis"
   ]
  },
  {
   "cell_type": "code",
   "execution_count": 11,
   "metadata": {},
   "outputs": [],
   "source": [
    "#calculating quartiles\n",
    "#taking backup in outlier data \n",
    "outlier_data= train.copy()   \n",
    "\n",
    "#creating outlier_count to count outlier count in each variable\n",
    "outlier_count= outlier_data.drop([\"target\", \"ID_code\"], axis=1)\n",
    "Q1 = outlier_count.quantile(0.25)\n",
    "Q3 = outlier_count.quantile(0.75)\n",
    "IQR = Q3 - Q1"
   ]
  },
  {
   "cell_type": "code",
   "execution_count": 12,
   "metadata": {},
   "outputs": [],
   "source": [
    "#outlier_count is a df which stores features and their respective Outlier count\n",
    "outlier_count= ((outlier_data < (Q1 - 1.5 * IQR)) | (outlier_data > (Q3 + 1.5 * IQR))).sum()\n",
    "\n",
    "outlier_count = pd.DataFrame(\n",
    "    {'Feature': features,\n",
    "     'Outlier Count': outlier_count,\n",
    "    })\n",
    "\n",
    "#because we want outlier count of only numeric variables\n",
    "outlier_count=outlier_count.iloc[2:202, :]\n",
    "\n",
    "#sorting in descending order\n",
    "outlier_count= outlier_count.sort_values('Outlier Count', ascending= False)\n",
    "\n",
    "#removing index\n",
    "outlier_count.reset_index(drop=True, inplace=True)\n",
    "# outlier_count"
   ]
  },
  {
   "cell_type": "code",
   "execution_count": 13,
   "metadata": {},
   "outputs": [
    {
     "data": {
      "text/plain": [
       "26536"
      ]
     },
     "execution_count": 13,
     "metadata": {},
     "output_type": "execute_result"
    }
   ],
   "source": [
    "#total number of outliers\n",
    "outlier_count['Outlier Count'].sum()"
   ]
  },
  {
   "cell_type": "code",
   "execution_count": 14,
   "metadata": {},
   "outputs": [
    {
     "data": {
      "image/png": "[encoded data removed]",
      "text/plain": [
       "<Figure size 720x576 with 1 Axes>"
      ]
     },
     "metadata": {
      "needs_background": "light"
     },
     "output_type": "display_data"
    }
   ],
   "source": [
    "#plotting bargraph of top 50 outliers by feature\n",
    "#plt.figure(figsize=(30,15))\n",
    "\n",
    "top_50_outlier= outlier_count.head(n=50)\n",
    "plt.figure(figsize=(10,8))\n",
    "feature_len = np.arange(len(top_50_outlier['Feature']))\n",
    "\n",
    "plt.bar(feature_len, top_50_outlier['Outlier Count'], align='center',alpha=0.7, color='r')\n",
    "plt.xticks(feature_len, top_50_outlier['Feature'], rotation='vertical')\n",
    "plt.ylabel('Outlier Count')\n",
    "plt.title('Top 50 Outlier Count by Feature')\n",
    "plt.show()"
   ]
  },
  {
   "cell_type": "code",
   "execution_count": 15,
   "metadata": {},
   "outputs": [
    {
     "data": {
      "image/png": "[encoded data removed]",
      "text/plain": [
       "<Figure size 432x288 with 40 Axes>"
      ]
     },
     "metadata": {
      "needs_background": "light"
     },
     "output_type": "display_data"
    },
    {
     "data": {
      "image/png": "[encoded data removed]",
      "text/plain": [
       "<Figure size 432x288 with 40 Axes>"
      ]
     },
     "metadata": {
      "needs_background": "light"
     },
     "output_type": "display_data"
    },
    {
     "data": {
      "image/png": "[encoded data removed]",
      "text/plain": [
       "<Figure size 432x288 with 40 Axes>"
      ]
     },
     "metadata": {
      "needs_background": "light"
     },
     "output_type": "display_data"
    },
    {
     "data": {
      "image/png": "[encoded data removed]",
      "text/plain": [
       "<Figure size 432x288 with 40 Axes>"
      ]
     },
     "metadata": {
      "needs_background": "light"
     },
     "output_type": "display_data"
    },
    {
     "data": {
      "image/png": "[encoded data removed]",
      "text/plain": [
       "<Figure size 432x288 with 40 Axes>"
      ]
     },
     "metadata": {
      "needs_background": "light"
     },
     "output_type": "display_data"
    }
   ],
   "source": [
    "#checking the distribution of features\n",
    "train.iloc[:,2:42].hist(bins=25,  layout=(4, 10));\n",
    "train.iloc[:,42:82].hist(bins=25,  layout=(4, 10));\n",
    "train.iloc[:,82:122].hist(bins=25,  layout=(4, 10));\n",
    "train.iloc[:,122:162].hist(bins=25,  layout=(4, 10));\n",
    "train.iloc[:,162:202].hist(bins=25,  layout=(4, 10));"
   ]
  },
  {
   "cell_type": "markdown",
   "metadata": {},
   "source": [
    "## We can see that every feature is normally distributed, so we can impute/replace the outliers with mean values"
   ]
  },
  {
   "cell_type": "code",
   "execution_count": 16,
   "metadata": {},
   "outputs": [],
   "source": [
    "#NOTE: We have a backup in the df i.e. outlier_data"
   ]
  },
  {
   "cell_type": "code",
   "execution_count": 17,
   "metadata": {},
   "outputs": [],
   "source": [
    "#replacing outliers with NA \n",
    "#running loop from position 2 to 202 i.e taking only continuous variables into consideration\n",
    "\n",
    "for i in range(2,202):\n",
    "    q75, q25 = np.percentile(outlier_data.iloc[:,i], [75 ,25])\n",
    "    iqr= q75- q25\n",
    "    minimum = q25 - (iqr*1.5)\n",
    "    maximum = q75 + (iqr*1.5)\n",
    "    outlier_data.loc[outlier_data[features[i]] < minimum, features[i]] = np.nan\n",
    "    outlier_data.loc[outlier_data[features[i]] > maximum, features[i]] = np.nan"
   ]
  },
  {
   "cell_type": "code",
   "execution_count": 18,
   "metadata": {},
   "outputs": [],
   "source": [
    "# We will replace the missing values with mean\n",
    "\n",
    "# Replacing NaN with mean in only continuous var \n",
    "# NOTE: cont_features contain only cont features\n",
    "\n",
    "outlier_mean_df=outlier_data[cont_features].fillna(outlier_data[cont_features].mean())\n",
    "\n",
    "#adding target and ID back to outlier_mean_df \n",
    "outlier_mean_df['target']= outlier_data['target']\n",
    "outlier_mean_df['ID_code']= outlier_data['ID_code']\n",
    "outlier_data = outlier_mean_df[features]"
   ]
  },
  {
   "cell_type": "code",
   "execution_count": 19,
   "metadata": {},
   "outputs": [],
   "source": [
    "#outlier_data is full data on which we have replace outliers with mean"
   ]
  },
  {
   "cell_type": "markdown",
   "metadata": {},
   "source": [
    "# Feature Selection "
   ]
  },
  {
   "cell_type": "code",
   "execution_count": 20,
   "metadata": {},
   "outputs": [],
   "source": [
    "# Using Pearson Correlation to find out the important features\n",
    "corr = outlier_data.corr(method='pearson')\n",
    "\n",
    "# Correlation with output variable\n",
    "cor_target = abs(corr[\"target\"])"
   ]
  },
  {
   "cell_type": "code",
   "execution_count": 21,
   "metadata": {},
   "outputs": [],
   "source": [
    "# Storing the important variable names in a list with name relevant_features\n",
    "relevant_features = cor_target[cor_target>0.020]\n",
    "relevant_features= relevant_features.index\n",
    "relevant_features= list(relevant_features)"
   ]
  },
  {
   "cell_type": "code",
   "execution_count": 22,
   "metadata": {},
   "outputs": [
    {
     "data": {
      "text/plain": [
       "124"
      ]
     },
     "execution_count": 22,
     "metadata": {},
     "output_type": "execute_result"
    }
   ],
   "source": [
    "#printing relevant features\n",
    "len(relevant_features)"
   ]
  },
  {
   "cell_type": "code",
   "execution_count": 23,
   "metadata": {},
   "outputs": [],
   "source": [
    "#Storing the dataframe with only relevant features \n",
    "#dataframe with relevant features are stored relevant_feature_df\n",
    "\n",
    "relevant_feature_df= outlier_data[relevant_features]"
   ]
  },
  {
   "cell_type": "code",
   "execution_count": 24,
   "metadata": {},
   "outputs": [],
   "source": [
    "#plotting top 50 most important variables"
   ]
  },
  {
   "cell_type": "code",
   "execution_count": 25,
   "metadata": {},
   "outputs": [
    {
     "data": {
      "image/png": "[encoded data removed]",
      "text/plain": [
       "<Figure size 432x288 with 1 Axes>"
      ]
     },
     "metadata": {
      "needs_background": "light"
     },
     "output_type": "display_data"
    }
   ],
   "source": [
    "#plotting bar graph of important features\n",
    "#converting cor_target to dataframe\n",
    "cor_target_frame= cor_target.to_frame()\n",
    "\n",
    "#setting indexes as a column \n",
    "cor_target_frame.index.name = 'features'\n",
    "cor_target_frame.reset_index(inplace=True)\n",
    "\n",
    "#renaming the columns\n",
    "cor_target_frame.columns= ['Features','Correlation']\n",
    "\n",
    "#sorting in decreasing order of \n",
    "cor_target_frame = cor_target_frame.sort_values('Correlation', ascending = False).reset_index(drop = True)\n",
    "\n",
    "#removing top row as it contains target variable\n",
    "cor_target_frame= cor_target_frame.drop([0])\n",
    "\n",
    "#plotting most important top 50 features\n",
    "top_50_variables= cor_target_frame.head(n=50)\n",
    "top_50_variables.set_index(\"Features\",drop=True,inplace=True)\n",
    "top_50_variables.plot(kind='bar', title='Most Important Features',color='c', alpha=0.4);"
   ]
  },
  {
   "cell_type": "markdown",
   "metadata": {},
   "source": [
    "## Applying Logistic Regression"
   ]
  },
  {
   "cell_type": "code",
   "execution_count": 26,
   "metadata": {},
   "outputs": [],
   "source": [
    "#Applying logistic regression\n",
    "#replacing 0 with No and 1 with yes\n",
    "\n",
    "relevant_feature_df['target']= relevant_feature_df['target'].replace('No',0)\n",
    "relevant_feature_df['target']= relevant_feature_df['target'].replace('Yes',1)"
   ]
  },
  {
   "cell_type": "code",
   "execution_count": 27,
   "metadata": {},
   "outputs": [],
   "source": [
    "#Sampling\n",
    "#dividing data into samples\n",
    "sample_index= np.random.rand(len(relevant_feature_df))<0.8\n",
    "train_sample= relevant_feature_df[sample_index]\n",
    "test_sample= relevant_feature_df[~sample_index]"
   ]
  },
  {
   "cell_type": "code",
   "execution_count": 28,
   "metadata": {},
   "outputs": [
    {
     "data": {
      "text/plain": [
       "0    144182\n",
       "1     16234\n",
       "Name: target, dtype: int64"
      ]
     },
     "execution_count": 28,
     "metadata": {},
     "output_type": "execute_result"
    }
   ],
   "source": [
    "#Checking the distribution of target variable in train_sample\n",
    "train_sample['target'].value_counts()"
   ]
  },
  {
   "cell_type": "code",
   "execution_count": 29,
   "metadata": {},
   "outputs": [],
   "source": [
    "# Storing the independent col names in train_indep_cols\n",
    "train_indep_cols= train_sample.columns[1:124]"
   ]
  },
  {
   "cell_type": "code",
   "execution_count": 30,
   "metadata": {},
   "outputs": [
    {
     "name": "stdout",
     "output_type": "stream",
     "text": [
      "Optimization terminated successfully.\n",
      "         Current function value: 0.238312\n",
      "         Iterations 8\n"
     ]
    }
   ],
   "source": [
    "#training the model\n",
    "import statsmodels.api as sm\n",
    "logit= sm.Logit(train_sample['target'], train_sample[train_indep_cols]).fit()"
   ]
  },
  {
   "cell_type": "code",
   "execution_count": 31,
   "metadata": {},
   "outputs": [],
   "source": [
    "#Predicting Test results with probability\n",
    "\n",
    "test_sample['actual_prob']= logit.predict(test_sample[train_indep_cols])"
   ]
  },
  {
   "cell_type": "code",
   "execution_count": 32,
   "metadata": {},
   "outputs": [],
   "source": [
    "#Converting Actual probability to 0 and 1 by threshold value of 0.5\n",
    "\n",
    "test_sample['actual_val']=1\n",
    "test_sample.loc[test_sample.actual_prob<0.5,\"actual_val\"]=0"
   ]
  },
  {
   "cell_type": "code",
   "execution_count": 33,
   "metadata": {},
   "outputs": [
    {
     "data": {
      "text/html": [
       "<div>\n",
       "<style scoped>\n",
       "    .dataframe tbody tr th:only-of-type {\n",
       "        vertical-align: middle;\n",
       "    }\n",
       "\n",
       "    .dataframe tbody tr th {\n",
       "        vertical-align: top;\n",
       "    }\n",
       "\n",
       "    .dataframe thead th {\n",
       "        text-align: right;\n",
       "    }\n",
       "</style>\n",
       "<table border=\"1\" class=\"dataframe\">\n",
       "  <thead>\n",
       "    <tr style=\"text-align: right;\">\n",
       "      <th>actual_val</th>\n",
       "      <th>0</th>\n",
       "      <th>1</th>\n",
       "    </tr>\n",
       "    <tr>\n",
       "      <th>target</th>\n",
       "      <th></th>\n",
       "      <th></th>\n",
       "    </tr>\n",
       "  </thead>\n",
       "  <tbody>\n",
       "    <tr>\n",
       "      <th>0</th>\n",
       "      <td>35259</td>\n",
       "      <td>461</td>\n",
       "    </tr>\n",
       "    <tr>\n",
       "      <th>1</th>\n",
       "      <td>2890</td>\n",
       "      <td>974</td>\n",
       "    </tr>\n",
       "  </tbody>\n",
       "</table>\n",
       "</div>"
      ],
      "text/plain": [
       "actual_val      0    1\n",
       "target                \n",
       "0           35259  461\n",
       "1            2890  974"
      ]
     },
     "execution_count": 33,
     "metadata": {},
     "output_type": "execute_result"
    }
   ],
   "source": [
    "#Calculating Confusion Matrix\n",
    "CM=pd.crosstab(test_sample['target'], test_sample['actual_val'])\n",
    "CM"
   ]
  },
  {
   "cell_type": "code",
   "execution_count": 34,
   "metadata": {},
   "outputs": [],
   "source": [
    "# assigning values from Confusion Matrix to variable to calculate the  metrics further\n",
    "TN= CM.iloc[0,0]\n",
    "FN= CM.iloc[1,0]\n",
    "TP= CM.iloc[1,1]\n",
    "FP= CM.iloc[0,1]"
   ]
  },
  {
   "cell_type": "code",
   "execution_count": 35,
   "metadata": {},
   "outputs": [
    {
     "name": "stdout",
     "output_type": "stream",
     "text": [
      "Accuracy of the model is: 91.53\n",
      "Classification error of the model is: 8.47\n",
      "False Negative Rate of the model is: 74.79\n",
      "False Positive Rate of the model is: 1.29\n",
      "True Negative Rate of the model is: 98.71\n",
      "True Positive Rate of the model is: 25.21\n",
      "Precision of the model is: 67.87\n"
     ]
    }
   ],
   "source": [
    "#Calculating Evaluation Metrics\n",
    "\n",
    "Accuracy= ((TP+TN)*100)/(TP+TN+FP+FN)   \n",
    "\n",
    "#classification Error\n",
    "classification_error = ((FP + FN) / (TP + TN + FP + FN))*100\n",
    "\n",
    "#False Negative Rate\n",
    "FNR= (FN*100)/(FN+TP)\n",
    "\n",
    "#True positive Rate/Recall/Sensitivity\n",
    "TPR= (TP / (FN + TP))*100\n",
    "\n",
    "#True Negative Rate/Specificity/\n",
    "TNR= (TN / (TN + FP))*100\n",
    "\n",
    "#False Positive Rate\n",
    "FPR= (FP / (TN + FP))*100\n",
    "\n",
    "#precision\n",
    "precision = (TP / float(TP + FP))*100\n",
    "\n",
    "#printing the metrics\n",
    "print(\"Accuracy of the model is:\" , round(Accuracy,2))\n",
    "print(\"Classification error of the model is:\", round(classification_error,2))\n",
    "print(\"False Negative Rate of the model is:\", round(FNR,2))\n",
    "print(\"False Positive Rate of the model is:\", round(FPR,2))\n",
    "print(\"True Negative Rate of the model is:\", round(TNR,2))\n",
    "print(\"True Positive Rate of the model is:\", round(TPR,2))\n",
    "print(\"Precision of the model is:\", round(precision,2))"
   ]
  },
  {
   "cell_type": "markdown",
   "metadata": {},
   "source": [
    "## We are getting high False Negative score because the target data is imbalanced, so we will try undersampling and oversampling"
   ]
  },
  {
   "cell_type": "code",
   "execution_count": 36,
   "metadata": {},
   "outputs": [
    {
     "name": "stdout",
     "output_type": "stream",
     "text": [
      "0.848\n"
     ]
    }
   ],
   "source": [
    "#calculaing auc\n",
    "from sklearn import metrics\n",
    "auc=(metrics.roc_auc_score(test_sample['target'], test_sample['actual_prob']))\n",
    "print(round(auc,3))"
   ]
  },
  {
   "cell_type": "code",
   "execution_count": 37,
   "metadata": {},
   "outputs": [
    {
     "data": {
      "image/png": "[encoded data removed]",
      "text/plain": [
       "<Figure size 432x288 with 1 Axes>"
      ]
     },
     "metadata": {
      "needs_background": "light"
     },
     "output_type": "display_data"
    }
   ],
   "source": [
    "relevant_feature_df.target.value_counts().plot(kind='bar', title='Distribution of Classes');"
   ]
  },
  {
   "cell_type": "markdown",
   "metadata": {},
   "source": [
    "# Sampling "
   ]
  },
  {
   "cell_type": "markdown",
   "metadata": {},
   "source": [
    "# doing undersampling"
   ]
  },
  {
   "cell_type": "code",
   "execution_count": 38,
   "metadata": {},
   "outputs": [],
   "source": [
    "#Storing the count of number of records of class 1 in count_class_1 and count of number of records of class 0 in count_class_0\n",
    "count_class_0, count_class_1 = outlier_data.target.value_counts()\n",
    "\n",
    "#Storing the number of records where target value is 0 in df_class_0\n",
    "#Storing the number of records where target value is 1 in df_class_1\n",
    "\n",
    "df_class_0 = outlier_data[outlier_data['target'] == 0]\n",
    "df_class_1 = outlier_data[outlier_data['target'] == 1]"
   ]
  },
  {
   "cell_type": "code",
   "execution_count": 39,
   "metadata": {},
   "outputs": [],
   "source": [
    "df_class_0_under = df_class_0.sample(count_class_1)  #this will take randomly the amount of rows which class 1 has\n",
    "df_test_under = pd.concat([df_class_0_under, df_class_1], axis=0) #this will make a df by combining df_class_0_under, df_class_1"
   ]
  },
  {
   "cell_type": "code",
   "execution_count": 40,
   "metadata": {},
   "outputs": [],
   "source": [
    "#Storing the df with relevant features in df_test_under\n",
    "df_test_under= df_test_under[relevant_features]"
   ]
  },
  {
   "cell_type": "code",
   "execution_count": 41,
   "metadata": {},
   "outputs": [],
   "source": [
    "#doing random sampling and creating the train data(in train_sample) and the test data(in test_sample)\n",
    "sample_index= np.random.rand(len(df_test_under))<0.8\n",
    "train_sample= df_test_under[sample_index]\n",
    "test_sample= df_test_under[~sample_index]"
   ]
  },
  {
   "cell_type": "code",
   "execution_count": 42,
   "metadata": {},
   "outputs": [
    {
     "data": {
      "text/plain": [
       "1    16036\n",
       "0    16028\n",
       "Name: target, dtype: int64"
      ]
     },
     "execution_count": 42,
     "metadata": {},
     "output_type": "execute_result"
    }
   ],
   "source": [
    "#Checking the distribution of target variable in train_sample\n",
    "train_sample['target'].value_counts()"
   ]
  },
  {
   "cell_type": "code",
   "execution_count": 43,
   "metadata": {},
   "outputs": [
    {
     "name": "stdout",
     "output_type": "stream",
     "text": [
      "Optimization terminated successfully.\n",
      "         Current function value: 0.481881\n",
      "         Iterations 6\n"
     ]
    }
   ],
   "source": [
    "#Training the model\n",
    "\n",
    "import statsmodels.api as sm\n",
    "logit= sm.Logit(train_sample['target'], train_sample[train_indep_cols]).fit()"
   ]
  },
  {
   "cell_type": "code",
   "execution_count": 44,
   "metadata": {},
   "outputs": [],
   "source": [
    "#predicting test results\n",
    "test_sample['actual_prob']= logit.predict(test_sample[train_indep_cols])"
   ]
  },
  {
   "cell_type": "code",
   "execution_count": 45,
   "metadata": {},
   "outputs": [],
   "source": [
    "#Converting probabilities to 0 and 1 by threshold value of 0.5\n",
    "test_sample['actual_val']=1\n",
    "test_sample.loc[test_sample.actual_prob<0.5,\"actual_val\"]=0"
   ]
  },
  {
   "cell_type": "code",
   "execution_count": 46,
   "metadata": {},
   "outputs": [
    {
     "data": {
      "text/html": [
       "<div>\n",
       "<style scoped>\n",
       "    .dataframe tbody tr th:only-of-type {\n",
       "        vertical-align: middle;\n",
       "    }\n",
       "\n",
       "    .dataframe tbody tr th {\n",
       "        vertical-align: top;\n",
       "    }\n",
       "\n",
       "    .dataframe thead th {\n",
       "        text-align: right;\n",
       "    }\n",
       "</style>\n",
       "<table border=\"1\" class=\"dataframe\">\n",
       "  <thead>\n",
       "    <tr style=\"text-align: right;\">\n",
       "      <th>actual_val</th>\n",
       "      <th>0</th>\n",
       "      <th>1</th>\n",
       "    </tr>\n",
       "    <tr>\n",
       "      <th>target</th>\n",
       "      <th></th>\n",
       "      <th></th>\n",
       "    </tr>\n",
       "  </thead>\n",
       "  <tbody>\n",
       "    <tr>\n",
       "      <th>0</th>\n",
       "      <td>3113</td>\n",
       "      <td>957</td>\n",
       "    </tr>\n",
       "    <tr>\n",
       "      <th>1</th>\n",
       "      <td>939</td>\n",
       "      <td>3123</td>\n",
       "    </tr>\n",
       "  </tbody>\n",
       "</table>\n",
       "</div>"
      ],
      "text/plain": [
       "actual_val     0     1\n",
       "target                \n",
       "0           3113   957\n",
       "1            939  3123"
      ]
     },
     "execution_count": 46,
     "metadata": {},
     "output_type": "execute_result"
    }
   ],
   "source": [
    "#Creating Confusion Matrix\n",
    "CM=pd.crosstab(test_sample['target'], test_sample['actual_val'])\n",
    "CM"
   ]
  },
  {
   "cell_type": "code",
   "execution_count": 47,
   "metadata": {},
   "outputs": [],
   "source": [
    "# assigning values from Confusion Matrix to variable to calculate the  metrics further\n",
    "TN= CM.iloc[0,0]\n",
    "FN= CM.iloc[1,0]\n",
    "TP= CM.iloc[1,1]\n",
    "FP= CM.iloc[0,1]"
   ]
  },
  {
   "cell_type": "code",
   "execution_count": 48,
   "metadata": {},
   "outputs": [
    {
     "name": "stdout",
     "output_type": "stream",
     "text": [
      "Accuracy of the model is: 76.68\n",
      "Classification error of the model is: 23.32\n",
      "False Negative Rate of the model is: 23.12\n",
      "False Positive Rate of the model is: 23.51\n",
      "True Negative Rate of the model is: 76.49\n",
      "True Positive Rate of the model is: 76.88\n",
      "Precision of the model is: 76.54\n"
     ]
    }
   ],
   "source": [
    "#Calculating Metrics\n",
    "#Accuracy\n",
    "Accuracy= ((TP+TN)*100)/(TP+TN+FP+FN)   \n",
    "\n",
    "#classification Error\n",
    "classification_error = ((FP + FN) / (TP + TN + FP + FN))*100\n",
    "\n",
    "#False Negative Rate\n",
    "FNR= (FN*100)/(FN+TP)\n",
    "\n",
    "#True positive Rate/Recall/Sensitivity\n",
    "TPR= (TP / (FN + TP))*100\n",
    "\n",
    "#True Negative Rate/Specificity/\n",
    "TNR= (TN / (TN + FP))*100\n",
    "\n",
    "#False Positive Rate\n",
    "FPR= (FP / (TN + FP))*100\n",
    "\n",
    "#precision\n",
    "precision = (TP / float(TP + FP))*100\n",
    "\n",
    "#printing the metrics\n",
    "print(\"Accuracy of the model is:\" , round(Accuracy,2))\n",
    "print(\"Classification error of the model is:\", round(classification_error,2))\n",
    "print(\"False Negative Rate of the model is:\", round(FNR,2))\n",
    "print(\"False Positive Rate of the model is:\", round(FPR,2))\n",
    "print(\"True Negative Rate of the model is:\", round(TNR,2))\n",
    "print(\"True Positive Rate of the model is:\", round(TPR,2))\n",
    "print(\"Precision of the model is:\", round(precision,2))"
   ]
  },
  {
   "cell_type": "code",
   "execution_count": 49,
   "metadata": {},
   "outputs": [
    {
     "name": "stdout",
     "output_type": "stream",
     "text": [
      "0.846\n"
     ]
    }
   ],
   "source": [
    "#calculaing auc\n",
    "from sklearn import metrics\n",
    "auc=(metrics.roc_auc_score(test_sample['target'], test_sample['actual_prob']))\n",
    "print(round(auc,3))"
   ]
  },
  {
   "cell_type": "markdown",
   "metadata": {},
   "source": [
    "# Doing over sampling"
   ]
  },
  {
   "cell_type": "code",
   "execution_count": 50,
   "metadata": {},
   "outputs": [
    {
     "data": {
      "image/png": "[encoded data removed]",
      "text/plain": [
       "<Figure size 432x288 with 1 Axes>"
      ]
     },
     "metadata": {
      "needs_background": "light"
     },
     "output_type": "display_data"
    }
   ],
   "source": [
    "df_class_1_over = df_class_1.sample(count_class_0, replace=True)\n",
    "df_test_over = pd.concat([df_class_0, df_class_1_over], axis=0)\n",
    "\n",
    "#Showing the distribution of target value by target\n",
    "df_test_over.target.value_counts().plot(kind='bar', title='Distribution of Classes');"
   ]
  },
  {
   "cell_type": "code",
   "execution_count": 51,
   "metadata": {},
   "outputs": [],
   "source": [
    "#Storing the df with relevant features\n",
    "df_test_over= df_test_over[relevant_features]"
   ]
  },
  {
   "cell_type": "code",
   "execution_count": 52,
   "metadata": {},
   "outputs": [],
   "source": [
    "#doing random sampling\n",
    "sample_index= np.random.rand(len(df_test_over))<0.8\n",
    "train_sample= df_test_over[sample_index]\n",
    "test_sample= df_test_over[~sample_index]"
   ]
  },
  {
   "cell_type": "code",
   "execution_count": 53,
   "metadata": {},
   "outputs": [
    {
     "data": {
      "text/plain": [
       "0    144027\n",
       "1    143998\n",
       "Name: target, dtype: int64"
      ]
     },
     "execution_count": 53,
     "metadata": {},
     "output_type": "execute_result"
    }
   ],
   "source": [
    "train_sample['target'].value_counts()"
   ]
  },
  {
   "cell_type": "code",
   "execution_count": 54,
   "metadata": {},
   "outputs": [
    {
     "name": "stdout",
     "output_type": "stream",
     "text": [
      "Optimization terminated successfully.\n",
      "         Current function value: 0.478459\n",
      "         Iterations 6\n"
     ]
    }
   ],
   "source": [
    "#Training the model\n",
    "\n",
    "import statsmodels.api as sm\n",
    "logit= sm.Logit(train_sample['target'], train_sample[train_indep_cols]).fit()"
   ]
  },
  {
   "cell_type": "code",
   "execution_count": 55,
   "metadata": {},
   "outputs": [],
   "source": [
    "#Predicting the probability of test results\n",
    "test_sample['actual_prob']= logit.predict(test_sample[train_indep_cols])"
   ]
  },
  {
   "cell_type": "code",
   "execution_count": 56,
   "metadata": {},
   "outputs": [],
   "source": [
    "#Converting probabilities to 0 and 1\n",
    "test_sample['actual_val']=1\n",
    "test_sample.loc[test_sample.actual_prob<0.5,\"actual_val\"]=0"
   ]
  },
  {
   "cell_type": "code",
   "execution_count": 57,
   "metadata": {},
   "outputs": [
    {
     "data": {
      "text/html": [
       "<div>\n",
       "<style scoped>\n",
       "    .dataframe tbody tr th:only-of-type {\n",
       "        vertical-align: middle;\n",
       "    }\n",
       "\n",
       "    .dataframe tbody tr th {\n",
       "        vertical-align: top;\n",
       "    }\n",
       "\n",
       "    .dataframe thead th {\n",
       "        text-align: right;\n",
       "    }\n",
       "</style>\n",
       "<table border=\"1\" class=\"dataframe\">\n",
       "  <thead>\n",
       "    <tr style=\"text-align: right;\">\n",
       "      <th>actual_val</th>\n",
       "      <th>0</th>\n",
       "      <th>1</th>\n",
       "    </tr>\n",
       "    <tr>\n",
       "      <th>target</th>\n",
       "      <th></th>\n",
       "      <th></th>\n",
       "    </tr>\n",
       "  </thead>\n",
       "  <tbody>\n",
       "    <tr>\n",
       "      <th>0</th>\n",
       "      <td>27744</td>\n",
       "      <td>8131</td>\n",
       "    </tr>\n",
       "    <tr>\n",
       "      <th>1</th>\n",
       "      <td>8372</td>\n",
       "      <td>27532</td>\n",
       "    </tr>\n",
       "  </tbody>\n",
       "</table>\n",
       "</div>"
      ],
      "text/plain": [
       "actual_val      0      1\n",
       "target                  \n",
       "0           27744   8131\n",
       "1            8372  27532"
      ]
     },
     "execution_count": 57,
     "metadata": {},
     "output_type": "execute_result"
    }
   ],
   "source": [
    "#Creating Confusion Matrix\n",
    "CM=pd.crosstab(test_sample['target'], test_sample['actual_val'])\n",
    "CM"
   ]
  },
  {
   "cell_type": "code",
   "execution_count": 58,
   "metadata": {},
   "outputs": [],
   "source": [
    "# assigning values from Confusion Matrix to variable to calculate the  metrics further\n",
    "TN= CM.iloc[0,0]\n",
    "FN= CM.iloc[1,0]\n",
    "TP= CM.iloc[1,1]\n",
    "FP= CM.iloc[0,1]"
   ]
  },
  {
   "cell_type": "code",
   "execution_count": 59,
   "metadata": {},
   "outputs": [
    {
     "name": "stdout",
     "output_type": "stream",
     "text": [
      "Accuracy of the model is: 77.01\n",
      "Classification error of the model is: 22.99\n",
      "False Negative Rate of the model is: 23.32\n",
      "False Positive Rate of the model is: 22.66\n",
      "True Negative Rate of the model is: 77.34\n",
      "True Positive Rate of the model is: 76.68\n",
      "Precision of the model is: 77.2\n"
     ]
    }
   ],
   "source": [
    "#calculating Metrics\n",
    "#Accuracy\n",
    "Accuracy= ((TP+TN)*100)/(TP+TN+FP+FN)   \n",
    "\n",
    "#classification Error\n",
    "classification_error = ((FP + FN) / (TP + TN + FP + FN))*100\n",
    "\n",
    "#False Negative Rate\n",
    "FNR= (FN*100)/(FN+TP)\n",
    "\n",
    "#True positive Rate/Recall/Sensitivity\n",
    "TPR= (TP / (FN + TP))*100\n",
    "\n",
    "#True Negative Rate/Specificity/\n",
    "TNR= (TN / (TN + FP))*100\n",
    "\n",
    "#False Positive Rate\n",
    "FPR= (FP / (TN + FP))*100\n",
    "\n",
    "#precision\n",
    "precision = (TP / float(TP + FP))*100\n",
    "\n",
    "#printing the metrics\n",
    "print(\"Accuracy of the model is:\" , round(Accuracy,2))\n",
    "print(\"Classification error of the model is:\", round(classification_error,2))\n",
    "print(\"False Negative Rate of the model is:\", round(FNR,2))\n",
    "print(\"False Positive Rate of the model is:\", round(FPR,2))\n",
    "print(\"True Negative Rate of the model is:\", round(TNR,2))\n",
    "print(\"True Positive Rate of the model is:\", round(TPR,2))\n",
    "print(\"Precision of the model is:\", round(precision,2))"
   ]
  },
  {
   "cell_type": "code",
   "execution_count": 60,
   "metadata": {},
   "outputs": [
    {
     "name": "stdout",
     "output_type": "stream",
     "text": [
      "0.851\n"
     ]
    }
   ],
   "source": [
    "#AUC score\n",
    "from sklearn import metrics\n",
    "auc=(metrics.roc_auc_score(test_sample['target'], test_sample['actual_prob']))\n",
    "print(round(auc,3))"
   ]
  },
  {
   "cell_type": "markdown",
   "metadata": {},
   "source": [
    "# Decision Tree"
   ]
  },
  {
   "cell_type": "code",
   "execution_count": 61,
   "metadata": {},
   "outputs": [],
   "source": [
    "#Actual Data"
   ]
  },
  {
   "cell_type": "code",
   "execution_count": 62,
   "metadata": {},
   "outputs": [],
   "source": [
    "from sklearn import tree\n",
    "from sklearn.metrics import accuracy_score\n",
    "from sklearn.model_selection import train_test_split\n",
    "import numpy as np"
   ]
  },
  {
   "cell_type": "code",
   "execution_count": 63,
   "metadata": {},
   "outputs": [],
   "source": [
    "#Training on the unsampled data"
   ]
  },
  {
   "cell_type": "code",
   "execution_count": 64,
   "metadata": {},
   "outputs": [],
   "source": [
    "#taking out the df with relevant features\n",
    "relevant_feature_df= outlier_data[relevant_features]"
   ]
  },
  {
   "cell_type": "code",
   "execution_count": 65,
   "metadata": {},
   "outputs": [],
   "source": [
    "#replacing 0 with No and 1 with yes\n",
    "relevant_feature_df['target']= relevant_feature_df['target'].replace(1,'Yes')\n",
    "relevant_feature_df['target']= relevant_feature_df['target'].replace(0,'No')"
   ]
  },
  {
   "cell_type": "code",
   "execution_count": 66,
   "metadata": {},
   "outputs": [],
   "source": [
    "x= relevant_feature_df.iloc[:,1:124]   \n",
    "y= relevant_feature_df.iloc[:,0]"
   ]
  },
  {
   "cell_type": "code",
   "execution_count": 67,
   "metadata": {},
   "outputs": [],
   "source": [
    "#NOTE:\n",
    "#x is the df with independent var\n",
    "#y is the df with dependent var"
   ]
  },
  {
   "cell_type": "code",
   "execution_count": 68,
   "metadata": {},
   "outputs": [],
   "source": [
    "x_train, x_test, y_train, y_test= train_test_split(x, y, test_size=0.2)"
   ]
  },
  {
   "cell_type": "code",
   "execution_count": 69,
   "metadata": {},
   "outputs": [
    {
     "data": {
      "text/plain": [
       "No     143881\n",
       "Yes     16119\n",
       "Name: target, dtype: int64"
      ]
     },
     "execution_count": 69,
     "metadata": {},
     "output_type": "execute_result"
    }
   ],
   "source": [
    "#at first we have more data for \"NO\" target and less for \"Yes\" category\n",
    "y_train.value_counts()"
   ]
  },
  {
   "cell_type": "code",
   "execution_count": 70,
   "metadata": {},
   "outputs": [],
   "source": [
    "#NOTE:\n",
    "#x_train= train data with indep var\n",
    "#y_train= train data with dependent var \n",
    "#x_test= test data with indep var\n",
    "#y_test= test data with dep var"
   ]
  },
  {
   "cell_type": "code",
   "execution_count": 71,
   "metadata": {},
   "outputs": [],
   "source": [
    "#training the model\n",
    "#applying C5.0 algorithm\n",
    "clf= tree.DecisionTreeClassifier(criterion= \"entropy\").fit(x_train, y_train)"
   ]
  },
  {
   "cell_type": "code",
   "execution_count": 72,
   "metadata": {},
   "outputs": [],
   "source": [
    "#predicting the test results\n",
    "y_pred= clf.predict(x_test)"
   ]
  },
  {
   "cell_type": "code",
   "execution_count": 73,
   "metadata": {},
   "outputs": [
    {
     "name": "stdout",
     "output_type": "stream",
     "text": [
      "AUC Score is 0.55\n"
     ]
    }
   ],
   "source": [
    "#predicting prob\n",
    "# Actual class predictions\n",
    "rf_predictions = clf.predict(x_test)\n",
    "\n",
    "# Probabilities for each class\n",
    "rf_probs = clf.predict_proba(x_test)[:, 1]\n",
    "\n",
    "#calculating auc\n",
    "from sklearn.metrics import roc_auc_score\n",
    "\n",
    "# Calculate roc auc\n",
    "roc_value = roc_auc_score(y_test, rf_probs)\n",
    "roc_value = round(roc_value,2)\n",
    "print(\"AUC Score is {}\".format(roc_value))"
   ]
  },
  {
   "cell_type": "code",
   "execution_count": 74,
   "metadata": {},
   "outputs": [],
   "source": [
    "#creating dot file to visualize the tree\n",
    "#We can also visualize this tree on the website webgraphviz.com\n",
    "dotfile= open(\"pt.dot\", \"w\")\n",
    "df= relevant_feature_df.drop('target', axis=1)\n",
    "df= tree.export_graphviz(clf, out_file=dotfile, feature_names= df.columns)"
   ]
  },
  {
   "cell_type": "code",
   "execution_count": 75,
   "metadata": {},
   "outputs": [],
   "source": [
    "#Creating Confusion Matrix\n",
    "CM = pd.crosstab(y_test, y_pred)\n",
    "\n",
    "#let us save TP, TN, FP, FN\n",
    "TN = CM.iloc[0,0]\n",
    "FN = CM.iloc[1,0]\n",
    "TP = CM.iloc[1,1]\n",
    "FP = CM.iloc[0,1]"
   ]
  },
  {
   "cell_type": "code",
   "execution_count": 77,
   "metadata": {},
   "outputs": [
    {
     "name": "stdout",
     "output_type": "stream",
     "text": [
      "Accuracy of the model is: 83.85\n",
      "Classification error of the model is: 16.15\n",
      "False Negative Rate of the model is: 80.67\n",
      "False Positive Rate of the model is: 9.02\n",
      "True Negative Rate of the model is: 90.98\n",
      "True Positive Rate of the model is: 19.33\n",
      "Precision of the model is: 19.13\n"
     ]
    }
   ],
   "source": [
    "#calculating Metrics\n",
    "#Accuracy\n",
    "Accuracy= ((TP+TN)*100)/(TP+TN+FP+FN)   \n",
    "\n",
    "#classification Error\n",
    "classification_error = ((FP + FN) / (TP + TN + FP + FN))*100\n",
    "\n",
    "#False Negative Rate\n",
    "FNR= (FN*100)/(FN+TP)\n",
    "\n",
    "#True positive Rate/Recall/Sensitivity\n",
    "TPR= (TP / (FN + TP))*100\n",
    "\n",
    "#True Negative Rate/Specificity/\n",
    "TNR= (TN / (TN + FP))*100\n",
    "\n",
    "#False Positive Rate\n",
    "FPR= (FP / (TN + FP))*100\n",
    "\n",
    "#precision\n",
    "precision = (TP / float(TP + FP))*100\n",
    "\n",
    "#printing the metrics\n",
    "print(\"Accuracy of the model is:\" , round(Accuracy,2))\n",
    "print(\"Classification error of the model is:\", round(classification_error,2))\n",
    "print(\"False Negative Rate of the model is:\", round(FNR,2))\n",
    "print(\"False Positive Rate of the model is:\", round(FPR,2))\n",
    "print(\"True Negative Rate of the model is:\", round(TNR,2))\n",
    "print(\"True Positive Rate of the model is:\", round(TPR,2))\n",
    "print(\"Precision of the model is:\", round(precision,2))"
   ]
  },
  {
   "cell_type": "code",
   "execution_count": 78,
   "metadata": {},
   "outputs": [],
   "source": [
    "#As we can see that we are getting high False Negative rate, so we will try over sampling"
   ]
  },
  {
   "cell_type": "markdown",
   "metadata": {},
   "source": [
    "## Over Sampling"
   ]
  },
  {
   "cell_type": "code",
   "execution_count": 79,
   "metadata": {},
   "outputs": [],
   "source": [
    "#taking out the df with relevant features\n",
    "relevant_feature_df= outlier_data[relevant_features]"
   ]
  },
  {
   "cell_type": "code",
   "execution_count": 80,
   "metadata": {},
   "outputs": [],
   "source": [
    "count_class_0, count_class_1 = relevant_feature_df.target.value_counts()"
   ]
  },
  {
   "cell_type": "code",
   "execution_count": 81,
   "metadata": {},
   "outputs": [],
   "source": [
    "#Storing the number of records where target value is 0 in df_class_0\n",
    "#Storing the number of records where target value is 1 in df_class_1\n",
    "\n",
    "df_class_0 = relevant_feature_df[relevant_feature_df['target'] == 0]\n",
    "df_class_1 = relevant_feature_df[relevant_feature_df['target'] == 1]"
   ]
  },
  {
   "cell_type": "code",
   "execution_count": 82,
   "metadata": {},
   "outputs": [],
   "source": [
    "#Creating the df_test_over which includes oversampled data\n",
    "\n",
    "df_class_1_over = df_class_1.sample(count_class_0, replace=True)\n",
    "df_test_over = pd.concat([df_class_0, df_class_1_over], axis=0)"
   ]
  },
  {
   "cell_type": "code",
   "execution_count": 83,
   "metadata": {},
   "outputs": [
    {
     "data": {
      "text/plain": [
       "1    179902\n",
       "0    179902\n",
       "Name: target, dtype: int64"
      ]
     },
     "execution_count": 83,
     "metadata": {},
     "output_type": "execute_result"
    }
   ],
   "source": [
    "df_test_over.target.value_counts()"
   ]
  },
  {
   "cell_type": "code",
   "execution_count": 84,
   "metadata": {},
   "outputs": [],
   "source": [
    "#replacing 0 with No and 1 with yes\n",
    "df_test_over['target']= df_test_over['target'].replace(1,'Yes')\n",
    "df_test_over['target']= df_test_over['target'].replace(0,'No')"
   ]
  },
  {
   "cell_type": "code",
   "execution_count": 85,
   "metadata": {},
   "outputs": [],
   "source": [
    "x= df_test_over.iloc[:,1:124]   \n",
    "y= df_test_over.iloc[:,0]"
   ]
  },
  {
   "cell_type": "code",
   "execution_count": 86,
   "metadata": {},
   "outputs": [],
   "source": [
    "x_train, x_test, y_train, y_test= train_test_split(x, y, test_size=0.2)"
   ]
  },
  {
   "cell_type": "code",
   "execution_count": 87,
   "metadata": {},
   "outputs": [],
   "source": [
    "#training the model\n",
    "clf= tree.DecisionTreeClassifier(criterion= \"entropy\").fit(x_train, y_train)"
   ]
  },
  {
   "cell_type": "code",
   "execution_count": 88,
   "metadata": {},
   "outputs": [],
   "source": [
    "#predicting the target variable on test data\n",
    "y_pred= clf.predict(x_test)"
   ]
  },
  {
   "cell_type": "code",
   "execution_count": 89,
   "metadata": {},
   "outputs": [
    {
     "name": "stdout",
     "output_type": "stream",
     "text": [
      "AUC score is 0.94\n"
     ]
    }
   ],
   "source": [
    "#predicting prob\n",
    "# Actual class predictions\n",
    "rf_predictions = clf.predict(x_test)\n",
    "# Probabilities for each class\n",
    "rf_probs = clf.predict_proba(x_test)[:, 1]\n",
    "\n",
    "\n",
    "#Calculating  roc_auc\n",
    "from sklearn.metrics import roc_auc_score\n",
    "\n",
    "# Calculate roc auc\n",
    "roc_value = roc_auc_score(y_test, rf_probs)\n",
    "roc_value = round(roc_value,2)\n",
    "print('AUC score is {}'.format(roc_value))"
   ]
  },
  {
   "cell_type": "code",
   "execution_count": 90,
   "metadata": {},
   "outputs": [],
   "source": [
    "#Creating Confusion Matrix\n",
    "CM = pd.crosstab(y_test, y_pred)\n",
    "\n",
    "#let us save TP, TN, FP, FN\n",
    "TN = CM.iloc[0,0]\n",
    "FN = CM.iloc[1,0]\n",
    "TP = CM.iloc[1,1]\n",
    "FP = CM.iloc[0,1]"
   ]
  },
  {
   "cell_type": "code",
   "execution_count": 91,
   "metadata": {},
   "outputs": [
    {
     "name": "stdout",
     "output_type": "stream",
     "text": [
      "Accuracy of the model is: 94.38\n",
      "Classification error of the model is: 5.62\n",
      "False Negative Rate of the model is: 0.05\n",
      "False Positive Rate of the model is: 11.2\n",
      "True Negative Rate of the model is: 88.8\n",
      "True Positive Rate of the model is: 99.95\n",
      "Precision of the model is: 89.93\n"
     ]
    }
   ],
   "source": [
    "#calculating Metrics\n",
    "#Accuracy\n",
    "Accuracy= ((TP+TN)*100)/(TP+TN+FP+FN)   \n",
    "\n",
    "#classification Error\n",
    "classification_error = ((FP + FN) / (TP + TN + FP + FN))*100\n",
    "\n",
    "#False Negative Rate\n",
    "FNR= (FN*100)/(FN+TP)\n",
    "\n",
    "#True positive Rate/Recall/Sensitivity\n",
    "TPR= (TP / (FN + TP))*100\n",
    "\n",
    "#True Negative Rate/Specificity/\n",
    "TNR= (TN / (TN + FP))*100\n",
    "\n",
    "#False Positive Rate\n",
    "FPR= (FP / (TN + FP))*100\n",
    "\n",
    "#precision\n",
    "precision = (TP / float(TP + FP))*100\n",
    "\n",
    "#printing the metrics\n",
    "print(\"Accuracy of the model is:\" , round(Accuracy,2))\n",
    "print(\"Classification error of the model is:\", round(classification_error,2))\n",
    "print(\"False Negative Rate of the model is:\", round(FNR,2))\n",
    "print(\"False Positive Rate of the model is:\", round(FPR,2))\n",
    "print(\"True Negative Rate of the model is:\", round(TNR,2))\n",
    "print(\"True Positive Rate of the model is:\", round(TPR,2))\n",
    "print(\"Precision of the model is:\", round(precision,2))"
   ]
  },
  {
   "cell_type": "markdown",
   "metadata": {},
   "source": [
    "## Random Forest"
   ]
  },
  {
   "cell_type": "markdown",
   "metadata": {},
   "source": [
    "## Actual Data"
   ]
  },
  {
   "cell_type": "code",
   "execution_count": 92,
   "metadata": {},
   "outputs": [],
   "source": [
    "#taking out the df with relevant features\n",
    "relevant_feature_df= outlier_data[relevant_features]"
   ]
  },
  {
   "cell_type": "code",
   "execution_count": 93,
   "metadata": {},
   "outputs": [],
   "source": [
    "#replacing 0 with No and 1 with yes\n",
    "relevant_feature_df['target']= relevant_feature_df['target'].replace(1,'Yes')\n",
    "relevant_feature_df['target']= relevant_feature_df['target'].replace(0,'No')"
   ]
  },
  {
   "cell_type": "code",
   "execution_count": 94,
   "metadata": {},
   "outputs": [],
   "source": [
    "x= relevant_feature_df.iloc[:,1:124]   \n",
    "y= relevant_feature_df.iloc[:,0]"
   ]
  },
  {
   "cell_type": "code",
   "execution_count": 95,
   "metadata": {},
   "outputs": [],
   "source": [
    "x_train, x_test, y_train, y_test= train_test_split(x, y, test_size=0.2)"
   ]
  },
  {
   "cell_type": "code",
   "execution_count": 96,
   "metadata": {},
   "outputs": [
    {
     "data": {
      "text/plain": [
       "No     143934\n",
       "Yes     16066\n",
       "Name: target, dtype: int64"
      ]
     },
     "execution_count": 96,
     "metadata": {},
     "output_type": "execute_result"
    }
   ],
   "source": [
    "#at first we have more data for \"NO\" target and less for \"Yes\" category\n",
    "y_train.value_counts()"
   ]
  },
  {
   "cell_type": "code",
   "execution_count": 97,
   "metadata": {},
   "outputs": [],
   "source": [
    "#training the model\n",
    "\n",
    "from sklearn.ensemble import RandomForestClassifier\n",
    "\n",
    "RF_model = RandomForestClassifier(n_estimators = 20).fit(x_train, y_train)"
   ]
  },
  {
   "cell_type": "code",
   "execution_count": 98,
   "metadata": {},
   "outputs": [],
   "source": [
    "#predicting the test data\n",
    "RF_predictions= RF_model.predict(x_test)"
   ]
  },
  {
   "cell_type": "code",
   "execution_count": 99,
   "metadata": {},
   "outputs": [],
   "source": [
    "#Creating Confusion Matrix\n",
    "CM = pd.crosstab(y_test, RF_predictions)\n",
    "\n",
    "#let us save TP, TN, FP, FN\n",
    "TN = CM.iloc[0,0]\n",
    "FN = CM.iloc[1,0]\n",
    "TP = CM.iloc[1,1]\n",
    "FP = CM.iloc[0,1]"
   ]
  },
  {
   "cell_type": "code",
   "execution_count": 100,
   "metadata": {},
   "outputs": [
    {
     "name": "stdout",
     "output_type": "stream",
     "text": [
      "Accuracy of the model is: 89.98\n",
      "Classification error of the model is: 10.02\n",
      "False Negative Rate of the model is: 99.01\n",
      "False Positive Rate of the model is: 0.04\n",
      "True Negative Rate of the model is: 99.96\n",
      "True Positive Rate of the model is: 0.99\n",
      "Precision of the model is: 72.73\n"
     ]
    }
   ],
   "source": [
    "#calculating Metrics\n",
    "#Accuracy\n",
    "Accuracy= ((TP+TN)*100)/(TP+TN+FP+FN)   \n",
    "\n",
    "#classification Error\n",
    "classification_error = ((FP + FN) / (TP + TN + FP + FN))*100\n",
    "\n",
    "#False Negative Rate\n",
    "FNR= (FN*100)/(FN+TP)\n",
    "\n",
    "#True positive Rate/Recall/Sensitivity\n",
    "TPR= (TP / (FN + TP))*100\n",
    "\n",
    "#True Negative Rate/Specificity/\n",
    "TNR= (TN / (TN + FP))*100\n",
    "\n",
    "#False Positive Rate\n",
    "FPR= (FP / (TN + FP))*100\n",
    "\n",
    "#precision\n",
    "precision = (TP / float(TP + FP))*100\n",
    "\n",
    "#printing the metrics\n",
    "print(\"Accuracy of the model is:\" , round(Accuracy,2))\n",
    "print(\"Classification error of the model is:\", round(classification_error,2))\n",
    "print(\"False Negative Rate of the model is:\", round(FNR,2))\n",
    "print(\"False Positive Rate of the model is:\", round(FPR,2))\n",
    "print(\"True Negative Rate of the model is:\", round(TNR,2))\n",
    "print(\"True Positive Rate of the model is:\", round(TPR,2))\n",
    "print(\"Precision of the model is:\", round(precision,2))"
   ]
  },
  {
   "cell_type": "markdown",
   "metadata": {},
   "source": [
    "as we can see that we are getting high false negative rate, so we will try oversampling"
   ]
  },
  {
   "cell_type": "markdown",
   "metadata": {},
   "source": [
    "## Oversampling"
   ]
  },
  {
   "cell_type": "code",
   "execution_count": 101,
   "metadata": {},
   "outputs": [],
   "source": [
    "#taking out the df with relevant features\n",
    "relevant_feature_df= outlier_data[relevant_features]"
   ]
  },
  {
   "cell_type": "code",
   "execution_count": 102,
   "metadata": {},
   "outputs": [],
   "source": [
    "count_class_0, count_class_1 = relevant_feature_df.target.value_counts()"
   ]
  },
  {
   "cell_type": "code",
   "execution_count": 103,
   "metadata": {},
   "outputs": [],
   "source": [
    "# Divide by class\n",
    "df_class_0 = relevant_feature_df[relevant_feature_df['target'] == 0]\n",
    "df_class_1 = relevant_feature_df[relevant_feature_df['target'] == 1]"
   ]
  },
  {
   "cell_type": "code",
   "execution_count": 104,
   "metadata": {},
   "outputs": [],
   "source": [
    "df_class_1_over = df_class_1.sample(count_class_0, replace=True)\n",
    "df_test_over = pd.concat([df_class_0, df_class_1_over], axis=0)"
   ]
  },
  {
   "cell_type": "code",
   "execution_count": 105,
   "metadata": {},
   "outputs": [
    {
     "data": {
      "text/plain": [
       "1    179902\n",
       "0    179902\n",
       "Name: target, dtype: int64"
      ]
     },
     "execution_count": 105,
     "metadata": {},
     "output_type": "execute_result"
    }
   ],
   "source": [
    "#checking count of target variable in df_test_over\n",
    "df_test_over['target'].value_counts()"
   ]
  },
  {
   "cell_type": "code",
   "execution_count": 106,
   "metadata": {},
   "outputs": [],
   "source": [
    "#replacing 0 with No and 1 with yes\n",
    "df_test_over['target']= df_test_over['target'].replace(1,'Yes')\n",
    "df_test_over['target']= df_test_over['target'].replace(0,'No')"
   ]
  },
  {
   "cell_type": "code",
   "execution_count": 107,
   "metadata": {},
   "outputs": [],
   "source": [
    "x= df_test_over.iloc[:,1:124]   \n",
    "y= df_test_over.iloc[:,0]"
   ]
  },
  {
   "cell_type": "code",
   "execution_count": 108,
   "metadata": {},
   "outputs": [],
   "source": [
    "x_train, x_test, y_train, y_test= train_test_split(x, y, test_size=0.2)"
   ]
  },
  {
   "cell_type": "code",
   "execution_count": 109,
   "metadata": {},
   "outputs": [],
   "source": [
    "from sklearn.ensemble import RandomForestClassifier\n",
    "\n",
    "RF_model = RandomForestClassifier(n_estimators = 50, max_depth=5).fit(x_train, y_train)"
   ]
  },
  {
   "cell_type": "code",
   "execution_count": 110,
   "metadata": {},
   "outputs": [],
   "source": [
    "#predicting the test data\n",
    "RF_predictions= RF_model.predict(x_test)"
   ]
  },
  {
   "cell_type": "code",
   "execution_count": 111,
   "metadata": {},
   "outputs": [],
   "source": [
    "#Creating Confusion Matrix\n",
    "CM = pd.crosstab(y_test, RF_predictions)\n",
    "\n",
    "#let us save TP, TN, FP, FN\n",
    "TN = CM.iloc[0,0]\n",
    "FN = CM.iloc[1,0]\n",
    "TP = CM.iloc[1,1]\n",
    "FP = CM.iloc[0,1]"
   ]
  },
  {
   "cell_type": "code",
   "execution_count": 112,
   "metadata": {},
   "outputs": [
    {
     "name": "stdout",
     "output_type": "stream",
     "text": [
      "Accuracy of the model is: 68.79\n",
      "Classification error of the model is: 31.21\n",
      "False Negative Rate of the model is: 34.87\n",
      "False Positive Rate of the model is: 27.57\n",
      "True Negative Rate of the model is: 72.43\n",
      "True Positive Rate of the model is: 65.13\n",
      "Precision of the model is: 70.14\n"
     ]
    }
   ],
   "source": [
    "#calculating Metrics\n",
    "#Accuracy\n",
    "Accuracy= ((TP+TN)*100)/(TP+TN+FP+FN)   \n",
    "\n",
    "#classification Error\n",
    "classification_error = ((FP + FN) / (TP + TN + FP + FN))*100\n",
    "\n",
    "#False Negative Rate\n",
    "FNR= (FN*100)/(FN+TP)\n",
    "\n",
    "#True positive Rate/Recall/Sensitivity\n",
    "TPR= (TP / (FN + TP))*100\n",
    "\n",
    "#True Negative Rate/Specificity/\n",
    "TNR= (TN / (TN + FP))*100\n",
    "\n",
    "#False Positive Rate\n",
    "FPR= (FP / (TN + FP))*100\n",
    "\n",
    "#precision\n",
    "precision = (TP / float(TP + FP))*100\n",
    "\n",
    "#printing the metrics\n",
    "print(\"Accuracy of the model is:\" , round(Accuracy,2))\n",
    "print(\"Classification error of the model is:\", round(classification_error,2))\n",
    "print(\"False Negative Rate of the model is:\", round(FNR,2))\n",
    "print(\"False Positive Rate of the model is:\", round(FPR,2))\n",
    "print(\"True Negative Rate of the model is:\", round(TNR,2))\n",
    "print(\"True Positive Rate of the model is:\", round(TPR,2))\n",
    "print(\"Precision of the model is:\", round(precision,2))"
   ]
  },
  {
   "cell_type": "code",
   "execution_count": 113,
   "metadata": {},
   "outputs": [],
   "source": [
    "#AUC score\n",
    "#predicting prob\n",
    "# Actual class predictions\n",
    "rf_predictions = RF_model.predict(x_test)\n",
    "# Probabilities for each class\n",
    "rf_probs = RF_model.predict_proba(x_test)[:, 1]\n",
    "\n",
    "\n",
    "#doing auc\n",
    "from sklearn.metrics import roc_auc_score\n",
    "\n",
    "# Calculate roc auc\n",
    "roc_value = roc_auc_score(y_test, rf_probs)\n",
    "roc_value = round(roc_value,2)"
   ]
  },
  {
   "cell_type": "code",
   "execution_count": 114,
   "metadata": {},
   "outputs": [
    {
     "name": "stdout",
     "output_type": "stream",
     "text": [
      "AUC value is 0.76\n"
     ]
    }
   ],
   "source": [
    "print(\"AUC value is {}\".format(roc_value))"
   ]
  },
  {
   "cell_type": "markdown",
   "metadata": {},
   "source": [
    "## Naive Bayes"
   ]
  },
  {
   "cell_type": "markdown",
   "metadata": {},
   "source": [
    "## Actual Data"
   ]
  },
  {
   "cell_type": "code",
   "execution_count": 115,
   "metadata": {},
   "outputs": [],
   "source": [
    "#importing library\n",
    "from sklearn.naive_bayes import GaussianNB"
   ]
  },
  {
   "cell_type": "code",
   "execution_count": 116,
   "metadata": {},
   "outputs": [],
   "source": [
    "#taking out the df with relevant features\n",
    "relevant_feature_df= outlier_data[relevant_features]"
   ]
  },
  {
   "cell_type": "code",
   "execution_count": 117,
   "metadata": {},
   "outputs": [],
   "source": [
    "#replacing 0 with No and 1 with yes\n",
    "relevant_feature_df['target']= relevant_feature_df['target'].replace(1,'Yes')\n",
    "relevant_feature_df['target']= relevant_feature_df['target'].replace(0,'No')"
   ]
  },
  {
   "cell_type": "code",
   "execution_count": 118,
   "metadata": {},
   "outputs": [],
   "source": [
    "x= relevant_feature_df.iloc[:,1:124]   \n",
    "y= relevant_feature_df.iloc[:,0]"
   ]
  },
  {
   "cell_type": "code",
   "execution_count": 119,
   "metadata": {},
   "outputs": [],
   "source": [
    "x_train, x_test, y_train, y_test= train_test_split(x, y, test_size=0.2)"
   ]
  },
  {
   "cell_type": "code",
   "execution_count": 120,
   "metadata": {},
   "outputs": [
    {
     "data": {
      "text/plain": [
       "No     143937\n",
       "Yes     16063\n",
       "Name: target, dtype: int64"
      ]
     },
     "execution_count": 120,
     "metadata": {},
     "output_type": "execute_result"
    }
   ],
   "source": [
    "#at first we have more data for \"NO\" target and less for \"Yes\" category\n",
    "y_train.value_counts()"
   ]
  },
  {
   "cell_type": "code",
   "execution_count": 121,
   "metadata": {},
   "outputs": [],
   "source": [
    "#Naive Bayes implementation\n",
    "NB_model = GaussianNB().fit(x_train, y_train)"
   ]
  },
  {
   "cell_type": "code",
   "execution_count": 122,
   "metadata": {},
   "outputs": [],
   "source": [
    "#predicting test cases\n",
    "NB_Predictions = NB_model.predict(x_test)"
   ]
  },
  {
   "cell_type": "code",
   "execution_count": 123,
   "metadata": {},
   "outputs": [],
   "source": [
    "#Creating Confusion Matrix\n",
    "CM = pd.crosstab(y_test, NB_Predictions)\n",
    "\n",
    "#let us save TP, TN, FP, FN\n",
    "TN = CM.iloc[0,0]\n",
    "FN = CM.iloc[1,0]\n",
    "TP = CM.iloc[1,1]\n",
    "FP = CM.iloc[0,1]"
   ]
  },
  {
   "cell_type": "code",
   "execution_count": 124,
   "metadata": {},
   "outputs": [
    {
     "name": "stdout",
     "output_type": "stream",
     "text": [
      "Accuracy of the model is: 92.06\n",
      "Classification error of the model is: 7.94\n",
      "False Negative Rate of the model is: 64.76\n",
      "False Positive Rate of the model is: 1.56\n",
      "True Negative Rate of the model is: 98.44\n",
      "True Positive Rate of the model is: 35.24\n",
      "Precision of the model is: 71.67\n"
     ]
    }
   ],
   "source": [
    "#calculating Metrics\n",
    "#Accuracy\n",
    "Accuracy= ((TP+TN)*100)/(TP+TN+FP+FN)   \n",
    "\n",
    "#classification Error\n",
    "classification_error = ((FP + FN) / (TP + TN + FP + FN))*100\n",
    "\n",
    "#False Negative Rate\n",
    "FNR= (FN*100)/(FN+TP)\n",
    "\n",
    "#True positive Rate/Recall/Sensitivity\n",
    "TPR= (TP / (FN + TP))*100\n",
    "\n",
    "#True Negative Rate/Specificity/\n",
    "TNR= (TN / (TN + FP))*100\n",
    "\n",
    "#False Positive Rate\n",
    "FPR= (FP / (TN + FP))*100\n",
    "\n",
    "#precision\n",
    "precision = (TP / float(TP + FP))*100\n",
    "\n",
    "#printing the metrics\n",
    "print(\"Accuracy of the model is:\" , round(Accuracy,2))\n",
    "print(\"Classification error of the model is:\", round(classification_error,2))\n",
    "print(\"False Negative Rate of the model is:\", round(FNR,2))\n",
    "print(\"False Positive Rate of the model is:\", round(FPR,2))\n",
    "print(\"True Negative Rate of the model is:\", round(TNR,2))\n",
    "print(\"True Positive Rate of the model is:\", round(TPR,2))\n",
    "print(\"Precision of the model is:\", round(precision,2))"
   ]
  },
  {
   "cell_type": "code",
   "execution_count": 125,
   "metadata": {},
   "outputs": [],
   "source": [
    "# Actual class predictions\n",
    "nb_predictions = NB_model.predict(x_test)\n",
    "# Probabilities for each class\n",
    "nb_probs = NB_model.predict_proba(x_test)[:, 1]"
   ]
  },
  {
   "cell_type": "code",
   "execution_count": 126,
   "metadata": {},
   "outputs": [
    {
     "name": "stdout",
     "output_type": "stream",
     "text": [
      "AUC score is 0.88\n"
     ]
    }
   ],
   "source": [
    "#AUC score\n",
    "from sklearn import metrics\n",
    "auc=metrics.roc_auc_score(y_test, nb_probs)\n",
    "auc= round(auc,2)\n",
    "print(\"AUC score is {}\".format(auc))"
   ]
  },
  {
   "cell_type": "markdown",
   "metadata": {},
   "source": [
    "## Over Sampling"
   ]
  },
  {
   "cell_type": "code",
   "execution_count": 127,
   "metadata": {},
   "outputs": [],
   "source": [
    "#taking out the df with relevant features\n",
    "relevant_feature_df= outlier_data[relevant_features]"
   ]
  },
  {
   "cell_type": "code",
   "execution_count": 128,
   "metadata": {},
   "outputs": [],
   "source": [
    "count_class_0, count_class_1 = relevant_feature_df.target.value_counts()"
   ]
  },
  {
   "cell_type": "code",
   "execution_count": 129,
   "metadata": {},
   "outputs": [],
   "source": [
    "# Divide by class\n",
    "df_class_0 = relevant_feature_df[relevant_feature_df['target'] == 0]\n",
    "df_class_1 = relevant_feature_df[relevant_feature_df['target'] == 1]"
   ]
  },
  {
   "cell_type": "code",
   "execution_count": 130,
   "metadata": {},
   "outputs": [],
   "source": [
    "df_class_1_over = df_class_1.sample(count_class_0, replace=True)\n",
    "df_test_over = pd.concat([df_class_0, df_class_1_over], axis=0)"
   ]
  },
  {
   "cell_type": "code",
   "execution_count": 131,
   "metadata": {},
   "outputs": [],
   "source": [
    "#replacing 0 with No and 1 with yes\n",
    "df_test_over['target']= df_test_over['target'].replace(1,'Yes')\n",
    "df_test_over['target']= df_test_over['target'].replace(0,'No')"
   ]
  },
  {
   "cell_type": "code",
   "execution_count": 132,
   "metadata": {},
   "outputs": [],
   "source": [
    "x= df_test_over.iloc[:,1:124]   \n",
    "y= df_test_over.iloc[:,0]"
   ]
  },
  {
   "cell_type": "code",
   "execution_count": 133,
   "metadata": {},
   "outputs": [],
   "source": [
    "x_train, x_test, y_train, y_test= train_test_split(x, y, test_size=0.2)"
   ]
  },
  {
   "cell_type": "code",
   "execution_count": 134,
   "metadata": {},
   "outputs": [],
   "source": [
    "#Naive Bayes implementation\n",
    "NB_model_over = GaussianNB().fit(x_train, y_train)"
   ]
  },
  {
   "cell_type": "code",
   "execution_count": 135,
   "metadata": {},
   "outputs": [],
   "source": [
    "#predict test cases\n",
    "NB_Predictions_over = NB_model_over.predict(x_test)"
   ]
  },
  {
   "cell_type": "code",
   "execution_count": 136,
   "metadata": {},
   "outputs": [],
   "source": [
    "#Creating Confusion Matrix\n",
    "CM = pd.crosstab(y_test, NB_Predictions_over)\n",
    "\n",
    "#let us save TP, TN, FP, FN\n",
    "TN = CM.iloc[0,0]\n",
    "FN = CM.iloc[1,0]\n",
    "TP = CM.iloc[1,1]\n",
    "FP = CM.iloc[0,1]"
   ]
  },
  {
   "cell_type": "code",
   "execution_count": 137,
   "metadata": {},
   "outputs": [
    {
     "name": "stdout",
     "output_type": "stream",
     "text": [
      "Accuracy of the model is: 80.38\n",
      "Classification error of the model is: 19.62\n",
      "False Negative Rate of the model is: 20.46\n",
      "False Positive Rate of the model is: 18.79\n",
      "True Negative Rate of the model is: 81.21\n",
      "True Positive Rate of the model is: 79.54\n",
      "Precision of the model is: 80.9\n"
     ]
    }
   ],
   "source": [
    "#calculating Metrics\n",
    "#Accuracy\n",
    "Accuracy= ((TP+TN)*100)/(TP+TN+FP+FN)   \n",
    "\n",
    "#classification Error\n",
    "classification_error = ((FP + FN) / (TP + TN + FP + FN))*100\n",
    "\n",
    "#False Negative Rate\n",
    "FNR= (FN*100)/(FN+TP)\n",
    "\n",
    "#True positive Rate/Recall/Sensitivity\n",
    "TPR= (TP / (FN + TP))*100\n",
    "\n",
    "#True Negative Rate/Specificity/\n",
    "TNR= (TN / (TN + FP))*100\n",
    "\n",
    "#False Positive Rate\n",
    "FPR= (FP / (TN + FP))*100\n",
    "\n",
    "#precision\n",
    "precision = (TP / float(TP + FP))*100\n",
    "\n",
    "#printing the metrics\n",
    "print(\"Accuracy of the model is:\" , round(Accuracy,2))\n",
    "print(\"Classification error of the model is:\", round(classification_error,2))\n",
    "print(\"False Negative Rate of the model is:\", round(FNR,2))\n",
    "print(\"False Positive Rate of the model is:\", round(FPR,2))\n",
    "print(\"True Negative Rate of the model is:\", round(TNR,2))\n",
    "print(\"True Positive Rate of the model is:\", round(TPR,2))\n",
    "print(\"Precision of the model is:\", round(precision,2))"
   ]
  },
  {
   "cell_type": "code",
   "execution_count": 138,
   "metadata": {},
   "outputs": [],
   "source": [
    "# Probabilities for each class\n",
    "nb_probs_over = NB_model_over.predict_proba(x_test)[:, 1]"
   ]
  },
  {
   "cell_type": "code",
   "execution_count": 139,
   "metadata": {},
   "outputs": [
    {
     "name": "stdout",
     "output_type": "stream",
     "text": [
      "AUC score is 0.88\n"
     ]
    }
   ],
   "source": [
    "#AUC score\n",
    "from sklearn import metrics\n",
    "auc=metrics.roc_auc_score(y_test, nb_probs_over)\n",
    "auc= round(auc,2)\n",
    "print(\"AUC score is {}\".format(auc))"
   ]
  },
  {
   "cell_type": "markdown",
   "metadata": {},
   "source": [
    "## Applying Naive Bayes as we got best score in Naive Bayes (on Oversampled Data)"
   ]
  },
  {
   "cell_type": "code",
   "execution_count": 140,
   "metadata": {},
   "outputs": [],
   "source": [
    "test= pd.read_csv('test.csv')"
   ]
  },
  {
   "cell_type": "code",
   "execution_count": 141,
   "metadata": {},
   "outputs": [],
   "source": [
    "#taking a backup of test df in test_copy\n",
    "test_copy= test.copy()   "
   ]
  },
  {
   "cell_type": "code",
   "execution_count": 142,
   "metadata": {},
   "outputs": [],
   "source": [
    "#extracting the data with only relevant features (i.e only 123 variables (NOTE:target variable should not be included))\n",
    "relevant_features_test= relevant_features[1:124]\n",
    "test_copy=test_copy[relevant_features_test]"
   ]
  },
  {
   "cell_type": "code",
   "execution_count": 143,
   "metadata": {},
   "outputs": [],
   "source": [
    "NB_predictions_test= NB_model_over.predict(test_copy)"
   ]
  },
  {
   "cell_type": "code",
   "execution_count": 144,
   "metadata": {},
   "outputs": [],
   "source": [
    "#adding NB predictions as target variable to test_copy\n",
    "test['target']= NB_predictions_test"
   ]
  },
  {
   "cell_type": "code",
   "execution_count": 145,
   "metadata": {},
   "outputs": [],
   "source": [
    "#converting Yes to 1 and No to 0\n",
    "test['target']= test['target'].replace('No',0)\n",
    "test['target']= test['target'].replace('Yes',1)"
   ]
  },
  {
   "cell_type": "code",
   "execution_count": 146,
   "metadata": {},
   "outputs": [
    {
     "data": {
      "image/png": "[encoded data removed]",
      "text/plain": [
       "<Figure size 432x288 with 1 Axes>"
      ]
     },
     "metadata": {
      "needs_background": "light"
     },
     "output_type": "display_data"
    }
   ],
   "source": [
    "#Showing the distribution of target value by target\n",
    "test.target.value_counts().plot(kind='bar', title='Distribution of Classes');"
   ]
  },
  {
   "cell_type": "code",
   "execution_count": 147,
   "metadata": {},
   "outputs": [
    {
     "data": {
      "text/plain": [
       "0    148361\n",
       "1     51639\n",
       "Name: target, dtype: int64"
      ]
     },
     "execution_count": 147,
     "metadata": {},
     "output_type": "execute_result"
    }
   ],
   "source": [
    "#count of distribution in target variable\n",
    "test['target'].value_counts()"
   ]
  },
  {
   "cell_type": "code",
   "execution_count": 148,
   "metadata": {},
   "outputs": [],
   "source": [
    "#saving the final test file with predicted values\n",
    "test.to_csv('Test File with Predictions.csv')"
   ]
  },
  {
   "cell_type": "code",
   "execution_count": null,
   "metadata": {},
   "outputs": [],
   "source": []
  }
 ],
 "metadata": {
  "kernelspec": {
   "display_name": "Python 3",
   "language": "python",
   "name": "python3"
  },
  "language_info": {
   "codemirror_mode": {
    "name": "ipython",
    "version": 3
   },
   "file_extension": ".py",
   "mimetype": "text/x-python",
   "name": "python",
   "nbconvert_exporter": "python",
   "pygments_lexer": "ipython3",
   "version": "3.7.3"
  }
 },
 "nbformat": 4,
 "nbformat_minor": 2
}
